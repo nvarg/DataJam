{
 "cells": [
  {
   "cell_type": "code",
   "execution_count": 2,
   "metadata": {},
   "outputs": [],
   "source": [
    "import pandas as pd\n",
    "import geopandas as gpd\n",
    "import numpy as np\n",
    "from ipyleaflet import Map, basemaps, basemap_to_tiles, GeoData, LayersControl, FullScreenControl, Marker, Icon, LayerGroup, GeoJSON, WidgetControl, Heatmap\n",
    "\n",
    "%matplotlib inline"
   ]
  },
  {
   "cell_type": "code",
   "execution_count": 4,
   "metadata": {},
   "outputs": [],
   "source": [
    "_tmpA=pd.read_csv('Department_of_Recreation_and_Parks__Facility_and_Park_Information.csv') \\\n",
    "    [['LocationType', 'Location Name', 'GeoLat', 'GeoLong']]\n",
    "\n",
    "_tmpB=pd.read_csv('Emergency_Preparedness_Locations_-_2018.csv') \\\n",
    "    [['Category', 'Name', 'Latitude', 'Longitude']]\n",
    "\n",
    "_tmpC=pd.read_json('Schools.json')\n",
    "\n",
    "_tmpA=_tmpA.iloc[\n",
    "    np.where(_tmpA.LocationType.isin(\n",
    "        ['Beaches', 'Dog Parks', 'Equestrian Centers', 'Golf Courses', 'Gardens', 'Open Space', 'Parks']\n",
    "    ))]\n",
    "\n",
    "_tmpA=_tmpA.rename(columns=dict(zip(_tmpA.columns, _tmpB.columns)))\n",
    "\n",
    "df=_tmpB.append(_tmpA, ignore_index=True)\n",
    "df=df.append(_tmpC, ignore_index=True)"
   ]
  },
  {
   "cell_type": "code",
   "execution_count": 5,
   "metadata": {},
   "outputs": [],
   "source": [
    "gdf=gpd.GeoDataFrame(df, geometry=gpd.points_from_xy(df.Longitude, df.Latitude))"
   ]
  },
  {
   "cell_type": "code",
   "execution_count": 6,
   "metadata": {},
   "outputs": [],
   "source": [
    "gjson=''\n",
    "with open('Neighborhoods.geojson') as f:\n",
    "    import json\n",
    "    gjson=json.load(f)\n",
    "\n",
    "neighborhoods=gpd.GeoDataFrame.from_features(gjson)\n",
    "lacity=neighborhoods.geometry.unary_union"
   ]
  },
  {
   "cell_type": "code",
   "execution_count": 9,
   "metadata": {},
   "outputs": [],
   "source": [
    "gdf=gdf.iloc[np.where(gdf.geometry.within(lacity.convex_hull))]\n",
    "df=df.iloc[np.where(gdf.geometry.within(lacity.convex_hull))]"
   ]
  },
  {
   "cell_type": "code",
   "execution_count": 10,
   "metadata": {},
   "outputs": [],
   "source": [
    "icons=[Icon(icon_url='https://raw.githubusercontent.com/twitter/twemoji/master/assets/72x72/{:x}.png'\n",
    "            .format(ord(i)), icon_size=(24,24)) for i in '🏢🚒👮🚨🌊🐕🐎🌱⛳⛰🌲🎓🏫']\n",
    "icons=dict(zip(gdf.Category.unique(), icons))#'🏢🚒👮🚨🌊🐕🐎🌱⛳⛰🌲🎓🏫'))\n",
    "\n",
    "markers={i:[] for i in gdf.Category.unique()}\n",
    "\n",
    "for idx,row in gdf.iloc[np.where(gdf.geometry.within(lacity.convex_hull))].iterrows():\n",
    "    markers[row.Category].append(\n",
    "        Marker(location=(row.Latitude, row.Longitude), draggable=False, title=row.Name, alt=row.Name, icon=icons[row.Category]))"
   ]
  },
  {
   "cell_type": "code",
   "execution_count": 21,
   "metadata": {},
   "outputs": [],
   "source": [
    "heatmap = Heatmap(\n",
    "    locations=[(row.Latitude, row.Longitude) for idx,row in gdf.iloc[np.where(gdf.geometry.within(lacity.convex_hull))].iterrows()],\n",
    "    radius=30,\n",
    "    min_opacity=0.2\n",
    ")\n",
    "\n",
    "heatmap.radius = 30\n",
    "heatmap.blur = 50\n",
    "heatmap.max = 0.5\n",
    "heatmap.gradient = {0.4: 'red', 0.6: 'yellow', 0.7: 'lime', 0.8: 'cyan', 1.0: 'blue'}"
   ]
  },
  {
   "cell_type": "code",
   "execution_count": 22,
   "metadata": {},
   "outputs": [
    {
     "data": {
      "application/vnd.jupyter.widget-view+json": {
       "model_id": "c366a1f730034ff9872af014dcd3a8f8",
       "version_major": 2,
       "version_minor": 0
      },
      "text/plain": [
       "Map(basemap={'url': 'https://{s}.tile.openstreetmap.org/{z}/{x}/{y}.png', 'max_zoom': 19, 'attribution': 'Map …"
      ]
     },
     "metadata": {},
     "output_type": "display_data"
    }
   ],
   "source": [
    "neighborhoods_layer=GeoData(geo_dataframe=neighborhoods, style={'color': 'blue', 'opacity':1, 'weight':1.9, 'dashArray':'9', 'fillOpacity':0.0},\n",
    "                     hover_style={'fillOpacity': 0.1}, name='Neighborhoods')\n",
    "geo_data=[]#[LayerGroup(layers=(*markers[i],), name=i) for i in df.Category.unique()]\n",
    "\n",
    "m=Map(\n",
    "    center=(df.Latitude.mean(), df.Longitude.mean()),\n",
    "    controls=(LayersControl(), FullScreenControl()),\n",
    "    layers=(basemap_to_tiles(basemaps.CartoDB.Positron), *geo_data, neighborhoods_layer, heatmap),\n",
    "    zoom=10)\n",
    "m"
   ]
  },
  {
   "cell_type": "code",
   "execution_count": 3,
   "metadata": {},
   "outputs": [
    {
     "data": {
      "text/plain": [
       "{'url': 'http://c.basemaps.cartocdn.com/light_all/{z}/{x}/{y}.png',\n",
       " 'max_zoom': 20,\n",
       " 'attribution': '&copy; <a href=\"http://www.openstreetmap.org/copyright\">OpenStreetMap</a> &copy; <a href=\"http://cartodb.com/attributions\">CartoDB</a>',\n",
       " 'name': 'CartoDB.Positron'}"
      ]
     },
     "execution_count": 3,
     "metadata": {},
     "output_type": "execute_result"
    }
   ],
   "source": [
    "basemaps.CartoDB.Positron"
   ]
  },
  {
   "cell_type": "code",
   "execution_count": null,
   "metadata": {},
   "outputs": [],
   "source": []
  },
  {
   "cell_type": "code",
   "execution_count": null,
   "metadata": {},
   "outputs": [],
   "source": []
  }
 ],
 "metadata": {
  "kernelspec": {
   "display_name": "Python 3",
   "language": "python",
   "name": "python3"
  },
  "language_info": {
   "codemirror_mode": {
    "name": "ipython",
    "version": 3
   },
   "file_extension": ".py",
   "mimetype": "text/x-python",
   "name": "python",
   "nbconvert_exporter": "python",
   "pygments_lexer": "ipython3",
   "version": "3.7.4"
  }
 },
 "nbformat": 4,
 "nbformat_minor": 2
}
